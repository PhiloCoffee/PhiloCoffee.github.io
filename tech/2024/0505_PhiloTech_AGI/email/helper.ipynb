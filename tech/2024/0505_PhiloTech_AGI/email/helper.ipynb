{
 "cells": [
  {
   "cell_type": "code",
   "execution_count": 1,
   "metadata": {},
   "outputs": [
    {
     "name": "stdout",
     "output_type": "stream",
     "text": [
      "邮件地址已经处理并保存到output.txt文件中。\n"
     ]
    }
   ],
   "source": [
    "# 打开输入文件和输出文件\n",
    "with open('email_list.txt', 'r') as input_file, open('output.txt', 'w') as output_file:\n",
    "    # 逐行处理输入文件\n",
    "    allset = set()\n",
    "    for line in input_file:\n",
    "        # 去除行末尾的换行符并添加分号\n",
    "        if line == '\\n':\n",
    "            continue\n",
    "        if line.startswith('#'):\n",
    "            continue\n",
    "        modified_line = line.strip() + ';'\n",
    "        # 写入到输出文件\n",
    "        allset.add(modified_line)\n",
    "    for element in allset:\n",
    "        output_file.write(element + '\\n')\n",
    "\n",
    "print(\"邮件地址已经处理并保存到output.txt文件中。\")\n"
   ]
  },
  {
   "cell_type": "code",
   "execution_count": 2,
   "metadata": {},
   "outputs": [
    {
     "name": "stdout",
     "output_type": "stream",
     "text": [
      "Jiaheng1.22@intl.zju.edu.cn;\n",
      "yicheng2.22@intl.zju.edu.cn;\n",
      "zhenbo.22@intl.zju.edu.cn;\n",
      "shangyu.22@intl.zju.edu.cn;\n",
      "Kerui.22@intl.zju.edu.cn;\n",
      "shunyang.22@intl.zju.edu.cn;\n",
      "yucong.22@intl.zju.edu.cn;\n",
      "siqi1.22@intl.zju.edu.cn;\n",
      "junxiang.22@intl.zju.edu.cn;\n",
      "haojun.22@intl.zju.edu.cn;\n",
      "ronglong.21@intl.zju.edu.cn;\n",
      ";\n",
      "cristina.22@intl.zju.edu.cn;\n",
      "shining.22@intl.zju.edu.cn;\n",
      "yiqin.22@intl.zju.edu.cn;\n"
     ]
    }
   ],
   "source": [
    "email_213 = '''\n",
    "shining.22@intl.zju.edu.cn\n",
    "ronglong.21@intl.zju.edu.cn\n",
    "shangyu.22@intl.zju.edu.cn\n",
    "Jiaheng1.22@intl.zju.edu.cn\n",
    "yucong.22@intl.zju.edu.cn\n",
    "siqi1.22@intl.zju.edu.cn\n",
    "shunyang.22@intl.zju.edu.cn\n",
    "Kerui.22@intl.zju.edu.cn\n",
    "yicheng2.22@intl.zju.edu.cn\n",
    "junxiang.22@intl.zju.edu.cn\n",
    "haojun.22@intl.zju.edu.cn\n",
    "yiqin.22@intl.zju.edu.cn\n",
    "cristina.22@intl.zju.edu.cn\n",
    "zhenbo.22@intl.zju.edu.cn\n",
    "yucong.22@intl.zju.edu.cn\n",
    "yiqin.22@intl.zju.edu.cn\n",
    "yicheng2.22@intl.zju.edu.cn\n",
    "haojun.22@intl.zju.edu.cn\n",
    "'''\n",
    "def handle_email_str(email_str):\n",
    "    allset = set()\n",
    "    email_str = email_str.split(\"\\n\")\n",
    "    for line in email_str:\n",
    "        # 去除行末尾的换行符并添加分号\n",
    "        if line == '\\n':\n",
    "            continue\n",
    "        if line.startswith('#'):\n",
    "            continue\n",
    "        modified_line = line.strip() + ';'\n",
    "        # 写入到输出文件\n",
    "        allset.add(modified_line)\n",
    "    for element in allset:\n",
    "        print(element )\n",
    "handle_email_str(email_213)\n",
    "\n"
   ]
  },
  {
   "cell_type": "code",
   "execution_count": 7,
   "metadata": {},
   "outputs": [
    {
     "name": "stdout",
     "output_type": "stream",
     "text": [
      "yiyingxu@intl.zju.edu.cn\n",
      "yuliu@intl.zju.edu.cn\n",
      "zechaozhao@intl.zju.edu.cn\n",
      "shiwenli@intl.zju.edu.cn\n",
      "weiwang@intl.zju.edu.cn\n",
      "qianyu@intl.zju.edu.cn\n"
     ]
    }
   ],
   "source": [
    "para = 'Xu, Yiying <yiyingxu@intl.zju.edu.cn>; Liu, Yu <yuliu@intl.zju.edu.cn>; Zhao, Zechao <zechaozhao@intl.zju.edu.cn>; Li, Shiwen <shiwenli@intl.zju.edu.cn>; Wang, Wei <weiwang@intl.zju.edu.cn>; Li, Yue <yueli@intl.zju.edu.cn>Yu, Qian(ZJUI) <qianyu@intl.zju.edu.cn>'\n",
    "\n",
    "names = para.split(';')\n",
    "\n",
    "for name in names:\n",
    "    brc = name.split(' ')\n",
    "    for br in brc:\n",
    "        if br.endswith('>'):\n",
    "            print(br[1:-1])"
   ]
  }
 ],
 "metadata": {
  "kernelspec": {
   "display_name": "base",
   "language": "python",
   "name": "python3"
  },
  "language_info": {
   "codemirror_mode": {
    "name": "ipython",
    "version": 3
   },
   "file_extension": ".py",
   "mimetype": "text/x-python",
   "name": "python",
   "nbconvert_exporter": "python",
   "pygments_lexer": "ipython3",
   "version": "3.9.16"
  },
  "orig_nbformat": 4
 },
 "nbformat": 4,
 "nbformat_minor": 2
}
